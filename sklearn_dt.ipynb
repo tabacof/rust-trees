{
 "cells": [
  {
   "cell_type": "code",
   "execution_count": 1,
   "id": "a22a5ebb-54fe-431f-bc8c-667d36f6f798",
   "metadata": {
    "execution": {
     "iopub.execute_input": "2023-03-06T20:47:04.654741Z",
     "iopub.status.busy": "2023-03-06T20:47:04.654422Z",
     "iopub.status.idle": "2023-03-06T20:47:04.659468Z",
     "shell.execute_reply": "2023-03-06T20:47:04.657869Z",
     "shell.execute_reply.started": "2023-03-06T20:47:04.654711Z"
    },
    "tags": []
   },
   "outputs": [],
   "source": [
    "import pandas as pd\n",
    "from sklearn.metrics import r2_score, accuracy_score\n",
    "from sklearn.tree import DecisionTreeRegressor, DecisionTreeClassifier\n",
    "from sklearn import tree\n",
    "from sklearn.datasets import load_breast_cancer, make_classification\n",
    "from matplotlib import pyplot as plt\n",
    "from rustrees import Dataset, TreeNode\n",
    "import time\n",
    "import numpy as np"
   ]
  },
  {
   "cell_type": "code",
   "execution_count": 2,
   "id": "7339d8b2-1b14-445c-8bf3-6ed0c050437c",
   "metadata": {
    "execution": {
     "iopub.execute_input": "2023-03-07T16:36:23.400487Z",
     "iopub.status.busy": "2023-03-07T16:36:23.400172Z",
     "iopub.status.idle": "2023-03-07T16:36:23.407520Z",
     "shell.execute_reply": "2023-03-07T16:36:23.406510Z",
     "shell.execute_reply.started": "2023-03-07T16:36:23.400459Z"
    },
    "tags": []
   },
   "outputs": [],
   "source": [
    "datasets = {\n",
    "    \"reg\": [\"diabetes\", \"housing\"],\n",
    "    \"clf\": [\"breast_cancer\", \"titanic\"]\n",
    "}"
   ]
  },
  {
   "cell_type": "code",
   "execution_count": 3,
   "id": "d9d390cf",
   "metadata": {},
   "outputs": [],
   "source": [
    "n_repeats = 100\n",
    "max_depth = 5"
   ]
  },
  {
   "cell_type": "code",
   "execution_count": 4,
   "id": "f8d469ba",
   "metadata": {},
   "outputs": [],
   "source": [
    "def evaluate_dataset(dataset, problem):\n",
    "    df_train = pd.read_csv(f\"datasets/{dataset}_train.csv\")\n",
    "    df_test = pd.read_csv(f\"datasets/{dataset}_test.csv\")\n",
    "    \n",
    "    df_train_rt = Dataset.read_csv(f\"datasets/{dataset}_train.csv\", sep=\",\")\n",
    "    df_test_rt = Dataset.read_csv(f\"datasets/{dataset}_test.csv\", sep=\",\")\n",
    "        \n",
    "    if problem == \"reg\":\n",
    "        metric_fn = r2_score\n",
    "        metric = \"r2\"\n",
    "        dt = DecisionTreeRegressor(max_depth=max_depth)\n",
    "    elif problem == \"clf\":\n",
    "        metric_fn = accuracy_score\n",
    "        metric = \"acc\"\n",
    "        dt = DecisionTreeClassifier(max_depth=max_depth)\n",
    "\n",
    "    start_time = time.time()\n",
    "    results = []\n",
    "    for i in range(n_repeats):\n",
    "        dt.fit(df_train.drop(\"target\", axis=1), df_train.target)\n",
    "        results.append(metric_fn(df_test.target, dt.predict(df_test.drop(\"target\", axis=1))))\n",
    "    sk_time = time.time() - start_time\n",
    "    sk_mean = np.mean(results)\n",
    "    sk_std = np.std(results)\n",
    "    \n",
    "    start_time = time.time()\n",
    "    results = []\n",
    "    for i in range(n_repeats):\n",
    "        if problem == \"reg\":\n",
    "            dt = TreeNode.train_reg(df_train_rt, 0, max_depth)\n",
    "            pred_rt = dt.predict(df_test_rt)\n",
    "            results.append(metric_fn(df_test.target, pred_rt))\n",
    "        elif problem == \"clf\":\n",
    "            dt = TreeNode.train_clf(df_train_rt, 0, max_depth)\n",
    "            pred_rt = dt.predict(df_test_rt)\n",
    "            results.append(metric_fn(df_test.target, np.array(pred_rt) > 0.5))\n",
    "    rt_time = time.time() - start_time\n",
    "    rt_mean = np.mean(results)\n",
    "    rt_std = np.std(results)\n",
    "        \n",
    "    return (dataset, sk_mean, sk_std, sk_time, rt_mean, rt_std, rt_time, metric)"
   ]
  },
  {
   "cell_type": "code",
   "execution_count": 5,
   "id": "8a2ae87c-9213-4c02-bd19-1a844eff5f05",
   "metadata": {
    "execution": {
     "iopub.execute_input": "2023-03-07T16:36:24.510409Z",
     "iopub.status.busy": "2023-03-07T16:36:24.510122Z",
     "iopub.status.idle": "2023-03-07T16:36:24.610884Z",
     "shell.execute_reply": "2023-03-07T16:36:24.610170Z",
     "shell.execute_reply.started": "2023-03-07T16:36:24.510384Z"
    },
    "tags": []
   },
   "outputs": [
    {
     "data": {
      "text/html": [
       "<div>\n",
       "<style scoped>\n",
       "    .dataframe tbody tr th:only-of-type {\n",
       "        vertical-align: middle;\n",
       "    }\n",
       "\n",
       "    .dataframe tbody tr th {\n",
       "        vertical-align: top;\n",
       "    }\n",
       "\n",
       "    .dataframe thead th {\n",
       "        text-align: right;\n",
       "    }\n",
       "</style>\n",
       "<table border=\"1\" class=\"dataframe\">\n",
       "  <thead>\n",
       "    <tr style=\"text-align: right;\">\n",
       "      <th></th>\n",
       "      <th>dataset</th>\n",
       "      <th>sk_mean</th>\n",
       "      <th>sk_std</th>\n",
       "      <th>sk_time(s)</th>\n",
       "      <th>rt_mean</th>\n",
       "      <th>rt_std</th>\n",
       "      <th>rt_time(s)</th>\n",
       "      <th>metric</th>\n",
       "    </tr>\n",
       "  </thead>\n",
       "  <tbody>\n",
       "    <tr>\n",
       "      <th>0</th>\n",
       "      <td>diabetes</td>\n",
       "      <td>0.317059</td>\n",
       "      <td>3.645488e-02</td>\n",
       "      <td>0.353968</td>\n",
       "      <td>0.297726</td>\n",
       "      <td>3.680381e-02</td>\n",
       "      <td>0.324070</td>\n",
       "      <td>r2</td>\n",
       "    </tr>\n",
       "    <tr>\n",
       "      <th>1</th>\n",
       "      <td>housing</td>\n",
       "      <td>0.599732</td>\n",
       "      <td>1.246222e-16</td>\n",
       "      <td>4.584062</td>\n",
       "      <td>0.599732</td>\n",
       "      <td>1.110223e-16</td>\n",
       "      <td>12.557950</td>\n",
       "      <td>r2</td>\n",
       "    </tr>\n",
       "    <tr>\n",
       "      <th>2</th>\n",
       "      <td>breast_cancer</td>\n",
       "      <td>0.928596</td>\n",
       "      <td>6.361917e-03</td>\n",
       "      <td>0.521264</td>\n",
       "      <td>0.929263</td>\n",
       "      <td>6.977429e-03</td>\n",
       "      <td>0.767765</td>\n",
       "      <td>acc</td>\n",
       "    </tr>\n",
       "    <tr>\n",
       "      <th>3</th>\n",
       "      <td>titanic</td>\n",
       "      <td>0.786441</td>\n",
       "      <td>1.110223e-16</td>\n",
       "      <td>0.327158</td>\n",
       "      <td>0.779661</td>\n",
       "      <td>3.330669e-16</td>\n",
       "      <td>0.321554</td>\n",
       "      <td>acc</td>\n",
       "    </tr>\n",
       "  </tbody>\n",
       "</table>\n",
       "</div>"
      ],
      "text/plain": [
       "         dataset   sk_mean        sk_std  sk_time(s)   rt_mean        rt_std  \\\n",
       "0       diabetes  0.317059  3.645488e-02    0.353968  0.297726  3.680381e-02   \n",
       "1        housing  0.599732  1.246222e-16    4.584062  0.599732  1.110223e-16   \n",
       "2  breast_cancer  0.928596  6.361917e-03    0.521264  0.929263  6.977429e-03   \n",
       "3        titanic  0.786441  1.110223e-16    0.327158  0.779661  3.330669e-16   \n",
       "\n",
       "   rt_time(s) metric  \n",
       "0    0.324070     r2  \n",
       "1   12.557950     r2  \n",
       "2    0.767765    acc  \n",
       "3    0.321554    acc  "
      ]
     },
     "execution_count": 5,
     "metadata": {},
     "output_type": "execute_result"
    }
   ],
   "source": [
    "results_reg = [evaluate_dataset(d, \"reg\") for d in datasets[\"reg\"]]\n",
    "results_clf = [evaluate_dataset(d, \"clf\") for d in datasets[\"clf\"]]\n",
    "results = results_reg + results_clf\n",
    "\n",
    "cols = \"dataset sk_mean sk_std sk_time(s) rt_mean rt_std rt_time(s) metric\".split()\n",
    "pd.DataFrame(results, columns=cols)"
   ]
  },
  {
   "cell_type": "code",
   "execution_count": null,
   "id": "cce305ae",
   "metadata": {},
   "outputs": [],
   "source": []
  }
 ],
 "metadata": {
  "kernelspec": {
   "display_name": "Python 3 (ipykernel)",
   "language": "python",
   "name": "python3"
  },
  "language_info": {
   "codemirror_mode": {
    "name": "ipython",
    "version": 3
   },
   "file_extension": ".py",
   "mimetype": "text/x-python",
   "name": "python",
   "nbconvert_exporter": "python",
   "pygments_lexer": "ipython3",
   "version": "3.8.5"
  }
 },
 "nbformat": 4,
 "nbformat_minor": 5
}

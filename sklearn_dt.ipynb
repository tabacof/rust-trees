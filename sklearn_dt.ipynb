{
 "cells": [
  {
   "cell_type": "code",
   "execution_count": 37,
   "id": "a22a5ebb-54fe-431f-bc8c-667d36f6f798",
   "metadata": {
    "execution": {
     "iopub.execute_input": "2023-03-06T20:47:04.654741Z",
     "iopub.status.busy": "2023-03-06T20:47:04.654422Z",
     "iopub.status.idle": "2023-03-06T20:47:04.659468Z",
     "shell.execute_reply": "2023-03-06T20:47:04.657869Z",
     "shell.execute_reply.started": "2023-03-06T20:47:04.654711Z"
    },
    "tags": []
   },
   "outputs": [],
   "source": [
    "import pandas as pd\n",
    "from sklearn.metrics import r2_score, accuracy_score\n",
    "from sklearn.tree import DecisionTreeRegressor, DecisionTreeClassifier\n",
    "from sklearn import tree\n",
    "from sklearn.datasets import load_breast_cancer, make_classification\n",
    "from matplotlib import pyplot as plt"
   ]
  },
  {
   "cell_type": "code",
   "execution_count": 179,
   "id": "7339d8b2-1b14-445c-8bf3-6ed0c050437c",
   "metadata": {
    "execution": {
     "iopub.execute_input": "2023-03-07T16:36:23.400487Z",
     "iopub.status.busy": "2023-03-07T16:36:23.400172Z",
     "iopub.status.idle": "2023-03-07T16:36:23.407520Z",
     "shell.execute_reply": "2023-03-07T16:36:23.406510Z",
     "shell.execute_reply.started": "2023-03-07T16:36:23.400459Z"
    },
    "tags": []
   },
   "outputs": [],
   "source": [
    "datasets = {\n",
    "    \"regression\": [\"diabetes\", \"housing\"],\n",
    "    \"classification\": [\"breast_cancer\", \"titanic\"]\n",
    "}"
   ]
  },
  {
   "cell_type": "code",
   "execution_count": 180,
   "id": "8a2ae87c-9213-4c02-bd19-1a844eff5f05",
   "metadata": {
    "execution": {
     "iopub.execute_input": "2023-03-07T16:36:24.510409Z",
     "iopub.status.busy": "2023-03-07T16:36:24.510122Z",
     "iopub.status.idle": "2023-03-07T16:36:24.610884Z",
     "shell.execute_reply": "2023-03-07T16:36:24.610170Z",
     "shell.execute_reply.started": "2023-03-07T16:36:24.510384Z"
    },
    "tags": []
   },
   "outputs": [
    {
     "name": "stdout",
     "output_type": "stream",
     "text": [
      "diabetes: r2: 33.45%\n",
      "housing: r2: 59.97%\n"
     ]
    }
   ],
   "source": [
    "for dataset in datasets[\"regression\"]:\n",
    "    df_train = pd.read_csv(f\"datasets/{dataset}_train.csv\")\n",
    "    df_test = pd.read_csv(f\"datasets/{dataset}_test.csv\")\n",
    "    dt = DecisionTreeRegressor(max_depth=5, random_state=42)\n",
    "    dt.fit(df_train.drop(\"target\", axis=1), df_train.target)\n",
    "    r2 = r2_score(df_test.target, dt.predict(df_test.drop(\"target\", axis=1)))\n",
    "    print(f\"{dataset}: r2: {round(100*r2, 2)}%\")"
   ]
  },
  {
   "cell_type": "code",
   "execution_count": 183,
   "id": "d4188f18-d491-448c-87db-5bdda7f816bf",
   "metadata": {
    "execution": {
     "iopub.execute_input": "2023-03-07T16:40:00.148636Z",
     "iopub.status.busy": "2023-03-07T16:40:00.148359Z",
     "iopub.status.idle": "2023-03-07T16:40:00.179465Z",
     "shell.execute_reply": "2023-03-07T16:40:00.178649Z",
     "shell.execute_reply.started": "2023-03-07T16:40:00.148611Z"
    },
    "tags": []
   },
   "outputs": [
    {
     "name": "stdout",
     "output_type": "stream",
     "text": [
      "breast_cancer: acc: 93.68%\n",
      "titanic: acc: 78.64%\n"
     ]
    }
   ],
   "source": [
    "for dataset in datasets[\"classification\"]:\n",
    "    df_train = pd.read_csv(f\"datasets/{dataset}_train.csv\")\n",
    "    df_test = pd.read_csv(f\"datasets/{dataset}_test.csv\")\n",
    "    dt = DecisionTreeClassifier(max_depth=5, min_samples_split=1, random_state=42)\n",
    "    dt.fit(df_train.drop(\"target\", axis=1), df_train.target)\n",
    "    r2 = accuracy_score(df_test.target, dt.predict(df_test.drop(\"target\", axis=1)))\n",
    "    print(f\"{dataset}: acc: {round(100*r2, 2)}%\")"
   ]
  },
  {
   "cell_type": "code",
   "execution_count": null,
   "id": "37ec04a6-2a53-4959-8141-3f0fb4fd6e59",
   "metadata": {},
   "outputs": [],
   "source": []
  }
 ],
 "metadata": {
  "kernelspec": {
   "display_name": "Python 3",
   "language": "python",
   "name": "python3"
  },
  "language_info": {
   "codemirror_mode": {
    "name": "ipython",
    "version": 3
   },
   "file_extension": ".py",
   "mimetype": "text/x-python",
   "name": "python",
   "nbconvert_exporter": "python",
   "pygments_lexer": "ipython3",
   "version": "3.8.5"
  }
 },
 "nbformat": 4,
 "nbformat_minor": 5
}

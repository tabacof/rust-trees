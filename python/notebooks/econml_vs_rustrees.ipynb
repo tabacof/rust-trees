{
 "cells": [
  {
   "cell_type": "code",
   "execution_count": 1,
   "id": "a22a5ebb-54fe-431f-bc8c-667d36f6f798",
   "metadata": {
    "execution": {
     "iopub.execute_input": "2023-03-06T20:47:04.654741Z",
     "iopub.status.busy": "2023-03-06T20:47:04.654422Z",
     "iopub.status.idle": "2023-03-06T20:47:04.659468Z",
     "shell.execute_reply": "2023-03-06T20:47:04.657869Z",
     "shell.execute_reply.started": "2023-03-06T20:47:04.654711Z"
    },
    "tags": []
   },
   "outputs": [
    {
     "name": "stderr",
     "output_type": "stream",
     "text": [
      "/home/glazari/tests/rust-trees/.env/lib/python3.10/site-packages/shap/utils/_clustering.py:35: NumbaDeprecationWarning: The 'nopython' keyword argument was not supplied to the 'numba.jit' decorator. The implicit default value for this argument is currently False, but it will be changed to True in Numba 0.59.0. See https://numba.readthedocs.io/en/stable/reference/deprecation.html#deprecation-of-object-mode-fall-back-behaviour-when-using-jit for details.\n",
      "  def _pt_shuffle_rec(i, indexes, index_mask, partition_tree, M, pos):\n",
      "/home/glazari/tests/rust-trees/.env/lib/python3.10/site-packages/shap/utils/_clustering.py:54: NumbaDeprecationWarning: The 'nopython' keyword argument was not supplied to the 'numba.jit' decorator. The implicit default value for this argument is currently False, but it will be changed to True in Numba 0.59.0. See https://numba.readthedocs.io/en/stable/reference/deprecation.html#deprecation-of-object-mode-fall-back-behaviour-when-using-jit for details.\n",
      "  def delta_minimization_order(all_masks, max_swap_size=100, num_passes=2):\n",
      "/home/glazari/tests/rust-trees/.env/lib/python3.10/site-packages/shap/utils/_clustering.py:63: NumbaDeprecationWarning: The 'nopython' keyword argument was not supplied to the 'numba.jit' decorator. The implicit default value for this argument is currently False, but it will be changed to True in Numba 0.59.0. See https://numba.readthedocs.io/en/stable/reference/deprecation.html#deprecation-of-object-mode-fall-back-behaviour-when-using-jit for details.\n",
      "  def _reverse_window(order, start, length):\n",
      "/home/glazari/tests/rust-trees/.env/lib/python3.10/site-packages/shap/utils/_clustering.py:69: NumbaDeprecationWarning: The 'nopython' keyword argument was not supplied to the 'numba.jit' decorator. The implicit default value for this argument is currently False, but it will be changed to True in Numba 0.59.0. See https://numba.readthedocs.io/en/stable/reference/deprecation.html#deprecation-of-object-mode-fall-back-behaviour-when-using-jit for details.\n",
      "  def _reverse_window_score_gain(masks, order, start, length):\n",
      "/home/glazari/tests/rust-trees/.env/lib/python3.10/site-packages/shap/utils/_clustering.py:77: NumbaDeprecationWarning: The 'nopython' keyword argument was not supplied to the 'numba.jit' decorator. The implicit default value for this argument is currently False, but it will be changed to True in Numba 0.59.0. See https://numba.readthedocs.io/en/stable/reference/deprecation.html#deprecation-of-object-mode-fall-back-behaviour-when-using-jit for details.\n",
      "  def _mask_delta_score(m1, m2):\n",
      "/home/glazari/tests/rust-trees/.env/lib/python3.10/site-packages/shap/links.py:5: NumbaDeprecationWarning: The 'nopython' keyword argument was not supplied to the 'numba.jit' decorator. The implicit default value for this argument is currently False, but it will be changed to True in Numba 0.59.0. See https://numba.readthedocs.io/en/stable/reference/deprecation.html#deprecation-of-object-mode-fall-back-behaviour-when-using-jit for details.\n",
      "  def identity(x):\n",
      "/home/glazari/tests/rust-trees/.env/lib/python3.10/site-packages/shap/links.py:10: NumbaDeprecationWarning: The 'nopython' keyword argument was not supplied to the 'numba.jit' decorator. The implicit default value for this argument is currently False, but it will be changed to True in Numba 0.59.0. See https://numba.readthedocs.io/en/stable/reference/deprecation.html#deprecation-of-object-mode-fall-back-behaviour-when-using-jit for details.\n",
      "  def _identity_inverse(x):\n",
      "/home/glazari/tests/rust-trees/.env/lib/python3.10/site-packages/shap/links.py:15: NumbaDeprecationWarning: The 'nopython' keyword argument was not supplied to the 'numba.jit' decorator. The implicit default value for this argument is currently False, but it will be changed to True in Numba 0.59.0. See https://numba.readthedocs.io/en/stable/reference/deprecation.html#deprecation-of-object-mode-fall-back-behaviour-when-using-jit for details.\n",
      "  def logit(x):\n",
      "/home/glazari/tests/rust-trees/.env/lib/python3.10/site-packages/shap/links.py:20: NumbaDeprecationWarning: The 'nopython' keyword argument was not supplied to the 'numba.jit' decorator. The implicit default value for this argument is currently False, but it will be changed to True in Numba 0.59.0. See https://numba.readthedocs.io/en/stable/reference/deprecation.html#deprecation-of-object-mode-fall-back-behaviour-when-using-jit for details.\n",
      "  def _logit_inverse(x):\n",
      "/home/glazari/tests/rust-trees/.env/lib/python3.10/site-packages/shap/utils/_masked_model.py:363: NumbaDeprecationWarning: The 'nopython' keyword argument was not supplied to the 'numba.jit' decorator. The implicit default value for this argument is currently False, but it will be changed to True in Numba 0.59.0. See https://numba.readthedocs.io/en/stable/reference/deprecation.html#deprecation-of-object-mode-fall-back-behaviour-when-using-jit for details.\n",
      "  def _build_fixed_single_output(averaged_outs, last_outs, outputs, batch_positions, varying_rows, num_varying_rows, link, linearizing_weights):\n",
      "/home/glazari/tests/rust-trees/.env/lib/python3.10/site-packages/shap/utils/_masked_model.py:385: NumbaDeprecationWarning: The 'nopython' keyword argument was not supplied to the 'numba.jit' decorator. The implicit default value for this argument is currently False, but it will be changed to True in Numba 0.59.0. See https://numba.readthedocs.io/en/stable/reference/deprecation.html#deprecation-of-object-mode-fall-back-behaviour-when-using-jit for details.\n",
      "  def _build_fixed_multi_output(averaged_outs, last_outs, outputs, batch_positions, varying_rows, num_varying_rows, link, linearizing_weights):\n",
      "/home/glazari/tests/rust-trees/.env/lib/python3.10/site-packages/shap/utils/_masked_model.py:428: NumbaDeprecationWarning: The 'nopython' keyword argument was not supplied to the 'numba.jit' decorator. The implicit default value for this argument is currently False, but it will be changed to True in Numba 0.59.0. See https://numba.readthedocs.io/en/stable/reference/deprecation.html#deprecation-of-object-mode-fall-back-behaviour-when-using-jit for details.\n",
      "  def _init_masks(cluster_matrix, M, indices_row_pos, indptr):\n",
      "/home/glazari/tests/rust-trees/.env/lib/python3.10/site-packages/shap/utils/_masked_model.py:439: NumbaDeprecationWarning: The 'nopython' keyword argument was not supplied to the 'numba.jit' decorator. The implicit default value for this argument is currently False, but it will be changed to True in Numba 0.59.0. See https://numba.readthedocs.io/en/stable/reference/deprecation.html#deprecation-of-object-mode-fall-back-behaviour-when-using-jit for details.\n",
      "  def _rec_fill_masks(cluster_matrix, indices_row_pos, indptr, indices, M, ind):\n",
      "/home/glazari/tests/rust-trees/.env/lib/python3.10/site-packages/shap/maskers/_tabular.py:186: NumbaDeprecationWarning: The 'nopython' keyword argument was not supplied to the 'numba.jit' decorator. The implicit default value for this argument is currently False, but it will be changed to True in Numba 0.59.0. See https://numba.readthedocs.io/en/stable/reference/deprecation.html#deprecation-of-object-mode-fall-back-behaviour-when-using-jit for details.\n",
      "  def _single_delta_mask(dind, masked_inputs, last_mask, data, x, noop_code):\n",
      "/home/glazari/tests/rust-trees/.env/lib/python3.10/site-packages/shap/maskers/_tabular.py:197: NumbaDeprecationWarning: The 'nopython' keyword argument was not supplied to the 'numba.jit' decorator. The implicit default value for this argument is currently False, but it will be changed to True in Numba 0.59.0. See https://numba.readthedocs.io/en/stable/reference/deprecation.html#deprecation-of-object-mode-fall-back-behaviour-when-using-jit for details.\n",
      "  def _delta_masking(masks, x, curr_delta_inds, varying_rows_out,\n",
      "/home/glazari/tests/rust-trees/.env/lib/python3.10/site-packages/shap/maskers/_image.py:175: NumbaDeprecationWarning: The 'nopython' keyword argument was not supplied to the 'numba.jit' decorator. The implicit default value for this argument is currently False, but it will be changed to True in Numba 0.59.0. See https://numba.readthedocs.io/en/stable/reference/deprecation.html#deprecation-of-object-mode-fall-back-behaviour-when-using-jit for details.\n",
      "  def _jit_build_partition_tree(xmin, xmax, ymin, ymax, zmin, zmax, total_ywidth, total_zwidth, M, clustering, q):\n",
      "/home/glazari/tests/rust-trees/.env/lib/python3.10/site-packages/shap/explainers/_partition.py:676: NumbaDeprecationWarning: The 'nopython' keyword argument was not supplied to the 'numba.jit' decorator. The implicit default value for this argument is currently False, but it will be changed to True in Numba 0.59.0. See https://numba.readthedocs.io/en/stable/reference/deprecation.html#deprecation-of-object-mode-fall-back-behaviour-when-using-jit for details.\n",
      "  def lower_credit(i, value, M, values, clustering):\n",
      "The 'nopython' keyword argument was not supplied to the 'numba.jit' decorator. The implicit default value for this argument is currently False, but it will be changed to True in Numba 0.59.0. See https://numba.readthedocs.io/en/stable/reference/deprecation.html#deprecation-of-object-mode-fall-back-behaviour-when-using-jit for details.\n",
      "The 'nopython' keyword argument was not supplied to the 'numba.jit' decorator. The implicit default value for this argument is currently False, but it will be changed to True in Numba 0.59.0. See https://numba.readthedocs.io/en/stable/reference/deprecation.html#deprecation-of-object-mode-fall-back-behaviour-when-using-jit for details.\n",
      "The seaborn styles shipped by Matplotlib are deprecated since 3.6, as they no longer correspond to the styles shipped by seaborn. However, they will remain available as 'seaborn-v0_8-<style>'. Alternatively, directly use the seaborn API instead.\n"
     ]
    }
   ],
   "source": [
    "import numpy as np\n",
    "import pandas as pd\n",
    "\n",
    "from joblib import Parallel, delayed\n",
    "from dataclasses import dataclass\n",
    "\n",
    "import statsmodels.api as sm\n",
    "import statsmodels.formula.api as smf\n",
    "\n",
    "import matplotlib as mpl\n",
    "import matplotlib.pyplot as plt\n",
    "import seaborn as sns\n",
    "\n",
    "from sklearn.tree import DecisionTreeRegressor\n",
    "from econml.dml import CausalForestDML\n",
    "\n",
    "import rustrees.tree as rt\n",
    "from rustrees.rustrees import DecisionTree, RandomForest\n",
    "\n",
    "# Plot settings\n",
    "plt.style.use('seaborn')\n",
    "sns.set_theme(style=\"ticks\")"
   ]
  },
  {
   "cell_type": "code",
   "execution_count": 2,
   "id": "8c9a1dff",
   "metadata": {},
   "outputs": [],
   "source": [
    "@dataclass\n",
    "class DGP:\n",
    "    n: int = 100\n",
    "    p: int = 0.5\n",
    "\n",
    "    def __post_init__(self):\n",
    "        self.df = self.generate_potential_outcomes()\n",
    "    \n",
    "    def generate_baseline(self, seed: int = 0) -> pd.DataFrame:\n",
    "        \"\"\"Generates a dataframes with the baseline outcome.\"\"\"\n",
    "        return pd.DataFrame()\n",
    "    \n",
    "    def add_treatment_effect(self, df : pd.DataFrame, seed: int = 0) -> pd.DataFrame:\n",
    "        \"\"\"Add the treatment effect to the baseline outcome.\"\"\"\n",
    "        return pd.DataFrame\n",
    "\n",
    "    def generate_potential_outcomes(self, seed: int = 0) -> pd.DataFrame:\n",
    "        \"\"\"Generates a dataframes with treatment and control potential outcomes.\"\"\"\n",
    "        df = self.generate_baseline(seed)\n",
    "        df = self.add_treatment_effect(df, seed)\n",
    "        for y in self.Y:\n",
    "            df[y + '_t'] = df[y + '_c'] + df['effect_on_' + y]\n",
    "            del df['effect_on_' + y]\n",
    "        return df.round(2)\n",
    "\n",
    "    def add_assignment(self, df: pd.DataFrame, seed: int = 0) -> pd.DataFrame:\n",
    "        \"\"\"Adds the treatment assignment variable.\"\"\"\n",
    "        np.random.seed(seed)\n",
    "        df[self.D] = np.random.binomial(1, self.p, self.n)\n",
    "        return df\n",
    "\n",
    "    def generate_data(self, seed_data: int = 0, seed_assignment: int = 1, **kwargs) -> pd.DataFrame:\n",
    "        \"\"\"Generate potential outcomes, add assignment and select realized outcomes.\"\"\"\n",
    "        df = self.generate_potential_outcomes(seed_data, **kwargs)\n",
    "        df = self.add_assignment(df, seed_assignment)\n",
    "        d = df[self.D].values\n",
    "        for y in self.Y:\n",
    "            df[y] = df[y + '_c'].values * (1-d) + df[y + '_t'].values * d\n",
    "            del df[y + '_c']\n",
    "            del df[y + '_t']\n",
    "        return df\n",
    "\n",
    "    def evaluate_f_redrawing_data(self, f, K):\n",
    "        \"\"\"Evaluates the function f on K draws of the data (both potential outcomes and treatment assignment).\"\"\"\n",
    "        results = Parallel(n_jobs=8)(delayed(f)(self.generate_data(seed_data=i, seed_assignment=K-i)) for i in range(K))\n",
    "        return results\n",
    "\n",
    "    def evaluate_f_redrawing_outcomes(self, f, K):\n",
    "        \"\"\"Evaluates the function f on K draws of the treatment assignment. Potential outcomes are fixed.\"\"\"\n",
    "        results = Parallel(n_jobs=8)(delayed(f)(self.generate_data(seed_assignment=i)) for i in range(K))\n",
    "        return results\n",
    "    \n",
    "    def evaluate_f_redrawing_potentialoutcomes(self, f, K):\n",
    "        \"\"\"Evaluates the function f on K draws of the potential outcomes.\"\"\"\n",
    "        results = Parallel(n_jobs=8)(delayed(f)(self.generate_potential_outcomes(seed_data=i)) for i in range(K))\n",
    "        return results\n"
   ]
  },
  {
   "cell_type": "code",
   "execution_count": 3,
   "id": "292e7a1f",
   "metadata": {},
   "outputs": [],
   "source": [
    "class dgp_online_discounts(DGP):\n",
    "    \"\"\"DGP: online discounts\"\"\"\n",
    "    devices = ['desktop', 'mobile']\n",
    "    browsers = ['chrome', 'safari', 'firefox', 'explorer', 'edge', 'brave', 'other']\n",
    "    regions = [str(x) for x in range(10)]\n",
    "    X: list[str] = ['time', 'device', 'browser', 'region']\n",
    "    D: str = 'discount'\n",
    "    Y: list[str] = ['spend']\n",
    "\n",
    "    def generate_baseline(self, seed:int = 0):\n",
    "        np.random.seed(seed)\n",
    "        time = np.random.beta(1, 1, size=self.n) * 24\n",
    "        device = np.random.choice(self.devices, size=self.n)\n",
    "        browser = np.random.choice(self.browsers, size=self.n)\n",
    "        region = np.random.choice(self.regions, size=self.n)\n",
    "        spend_c = np.random.exponential(10, self.n) - 5\n",
    "        df = pd.DataFrame({'spend_c': spend_c, 'time': time, 'device': device, 'browser': browser, 'region': region})\n",
    "        return df\n",
    "    \n",
    "    def add_treatment_effect(self, df, seed:int = 0):\n",
    "        np.random.seed(seed)\n",
    "        effect = 7*np.exp(-(df.time-18)**2/100) + 3*(df.browser=='safari') - 2*(df.device=='desktop') + (df.region=='3')\n",
    "        df['effect_on_spend'] = np.maximum(0, effect)\n",
    "        return df"
   ]
  },
  {
   "cell_type": "code",
   "execution_count": 4,
   "id": "37c5907a",
   "metadata": {},
   "outputs": [
    {
     "data": {
      "text/html": [
       "<div>\n",
       "<style scoped>\n",
       "    .dataframe tbody tr th:only-of-type {\n",
       "        vertical-align: middle;\n",
       "    }\n",
       "\n",
       "    .dataframe tbody tr th {\n",
       "        vertical-align: top;\n",
       "    }\n",
       "\n",
       "    .dataframe thead th {\n",
       "        text-align: right;\n",
       "    }\n",
       "</style>\n",
       "<table border=\"1\" class=\"dataframe\">\n",
       "  <thead>\n",
       "    <tr style=\"text-align: right;\">\n",
       "      <th></th>\n",
       "      <th>time</th>\n",
       "      <th>device</th>\n",
       "      <th>browser</th>\n",
       "      <th>region</th>\n",
       "      <th>discount</th>\n",
       "      <th>spend</th>\n",
       "    </tr>\n",
       "  </thead>\n",
       "  <tbody>\n",
       "    <tr>\n",
       "      <th>0</th>\n",
       "      <td>10.78</td>\n",
       "      <td>mobile</td>\n",
       "      <td>explorer</td>\n",
       "      <td>8</td>\n",
       "      <td>0</td>\n",
       "      <td>-1.08</td>\n",
       "    </tr>\n",
       "    <tr>\n",
       "      <th>1</th>\n",
       "      <td>0.57</td>\n",
       "      <td>desktop</td>\n",
       "      <td>chrome</td>\n",
       "      <td>3</td>\n",
       "      <td>1</td>\n",
       "      <td>-3.83</td>\n",
       "    </tr>\n",
       "    <tr>\n",
       "      <th>2</th>\n",
       "      <td>3.74</td>\n",
       "      <td>mobile</td>\n",
       "      <td>chrome</td>\n",
       "      <td>4</td>\n",
       "      <td>0</td>\n",
       "      <td>-2.63</td>\n",
       "    </tr>\n",
       "    <tr>\n",
       "      <th>3</th>\n",
       "      <td>13.37</td>\n",
       "      <td>desktop</td>\n",
       "      <td>safari</td>\n",
       "      <td>1</td>\n",
       "      <td>0</td>\n",
       "      <td>-4.01</td>\n",
       "    </tr>\n",
       "    <tr>\n",
       "      <th>4</th>\n",
       "      <td>0.71</td>\n",
       "      <td>desktop</td>\n",
       "      <td>explorer</td>\n",
       "      <td>4</td>\n",
       "      <td>0</td>\n",
       "      <td>5.12</td>\n",
       "    </tr>\n",
       "  </tbody>\n",
       "</table>\n",
       "</div>"
      ],
      "text/plain": [
       "    time   device   browser region  discount  spend\n",
       "0  10.78   mobile  explorer      8         0  -1.08\n",
       "1   0.57  desktop    chrome      3         1  -3.83\n",
       "2   3.74   mobile    chrome      4         0  -2.63\n",
       "3  13.37  desktop    safari      1         0  -4.01\n",
       "4   0.71  desktop  explorer      4         0   5.12"
      ]
     },
     "execution_count": 4,
     "metadata": {},
     "output_type": "execute_result"
    }
   ],
   "source": [
    "dgp = dgp_online_discounts(n=1_000_000)\n",
    "df = dgp.generate_data()\n",
    "df.head()"
   ]
  },
  {
   "cell_type": "code",
   "execution_count": 5,
   "id": "7741abf9",
   "metadata": {},
   "outputs": [
    {
     "data": {
      "text/html": [
       "<table class=\"simpletable\">\n",
       "<tr>\n",
       "      <td></td>         <th>coef</th>     <th>std err</th>      <th>t</th>      <th>P>|t|</th>  <th>[0.025</th>    <th>0.975]</th>  \n",
       "</tr>\n",
       "<tr>\n",
       "  <th>Intercept</th> <td>    4.9990</td> <td>    0.014</td> <td>  347.064</td> <td> 0.000</td> <td>    4.971</td> <td>    5.027</td>\n",
       "</tr>\n",
       "<tr>\n",
       "  <th>discount</th>  <td>    3.7808</td> <td>    0.020</td> <td>  185.637</td> <td> 0.000</td> <td>    3.741</td> <td>    3.821</td>\n",
       "</tr>\n",
       "</table>"
      ],
      "text/latex": [
       "\\begin{center}\n",
       "\\begin{tabular}{lcccccc}\n",
       "\\toprule\n",
       "                   & \\textbf{coef} & \\textbf{std err} & \\textbf{t} & \\textbf{P$> |$t$|$} & \\textbf{[0.025} & \\textbf{0.975]}  \\\\\n",
       "\\midrule\n",
       "\\textbf{Intercept} &       4.9990  &        0.014     &   347.064  &         0.000        &        4.971    &        5.027     \\\\\n",
       "\\textbf{discount}  &       3.7808  &        0.020     &   185.637  &         0.000        &        3.741    &        3.821     \\\\\n",
       "\\bottomrule\n",
       "\\end{tabular}\n",
       "\\end{center}"
      ],
      "text/plain": [
       "<class 'statsmodels.iolib.table.SimpleTable'>"
      ]
     },
     "execution_count": 5,
     "metadata": {},
     "output_type": "execute_result"
    }
   ],
   "source": [
    "smf.ols('spend ~ discount', df).fit().summary().tables[1]"
   ]
  },
  {
   "cell_type": "code",
   "execution_count": 6,
   "id": "7e3e9b14",
   "metadata": {},
   "outputs": [],
   "source": [
    "df_dummies = pd.get_dummies(df[dgp.X[1:]], drop_first=True)\n",
    "df = pd.concat([df, df_dummies], axis=1)\n",
    "X = ['time'] + list(df_dummies.columns)"
   ]
  },
  {
   "cell_type": "code",
   "execution_count": 7,
   "id": "b0b2ab19",
   "metadata": {},
   "outputs": [
    {
     "data": {
      "image/png": "[encoded data removed]",
      "text/plain": [
       "<Figure size 800x550 with 1 Axes>"
      ]
     },
     "metadata": {},
     "output_type": "display_data"
    }
   ],
   "source": [
    "from sklearn.linear_model import LogisticRegression\n",
    "\n",
    "df['pscore'] = LogisticRegression().fit(df[X], df[dgp.D]).predict_proba(df[X])[:,1]\n",
    "sns.histplot(data=df, x='pscore', hue='discount').set(title='Predicted propensity scores');"
   ]
  },
  {
   "cell_type": "code",
   "execution_count": 8,
   "id": "2aca855f",
   "metadata": {},
   "outputs": [],
   "source": [
    "df['y_star'] = df[dgp.Y[0]] / (df[dgp.D] * df['pscore'] - (1-df[dgp.D]) * (1-df['pscore']))"
   ]
  },
  {
   "cell_type": "code",
   "execution_count": 9,
   "id": "1151cdab",
   "metadata": {},
   "outputs": [
    {
     "data": {
      "text/plain": [
       "3.781025646615551"
      ]
     },
     "execution_count": 9,
     "metadata": {},
     "output_type": "execute_result"
    }
   ],
   "source": [
    "df['y_star'].mean()"
   ]
  },
  {
   "cell_type": "code",
   "execution_count": 10,
   "id": "83e8760a",
   "metadata": {},
   "outputs": [
    {
     "data": {
      "image/png": "[encoded data removed]",
      "text/plain": [
       "<Figure size 800x550 with 1 Axes>"
      ]
     },
     "metadata": {},
     "output_type": "display_data"
    }
   ],
   "source": [
    "sns.histplot(df['y_star']).set(title='Distribution of Auxiliary Variable');"
   ]
  },
  {
   "cell_type": "code",
   "execution_count": 11,
   "id": "ceb5e7b2",
   "metadata": {},
   "outputs": [
    {
     "name": "stdout",
     "output_type": "stream",
     "text": [
      "CPU times: user 343 ms, sys: 75.7 ms, total: 419 ms\n",
      "Wall time: 420 ms\n"
     ]
    }
   ],
   "source": [
    "%%time\n",
    "tree = DecisionTreeRegressor(max_depth=2).fit(df[X], df['y_star'])\n",
    "# df['y_hat'] = tree.predict(df[X])\n",
    "# df['y_hat'].mean()"
   ]
  },
  {
   "cell_type": "code",
   "execution_count": 12,
   "id": "bb537b51",
   "metadata": {},
   "outputs": [],
   "source": [
    "df_rt = rt.from_pandas(df[X+[\"y_star\"]])"
   ]
  },
  {
   "cell_type": "code",
   "execution_count": 13,
   "id": "4a54ee4c",
   "metadata": {},
   "outputs": [],
   "source": [
    "df[X+[\"y_star\"]].to_csv(\"dgp.csv\", index=False)"
   ]
  },
  {
   "cell_type": "code",
   "execution_count": 14,
   "id": "afca4b37",
   "metadata": {},
   "outputs": [
    {
     "name": "stdout",
     "output_type": "stream",
     "text": [
      "CPU times: user 1.27 s, sys: 34 ms, total: 1.31 s\n",
      "Wall time: 1.28 s\n"
     ]
    }
   ],
   "source": [
    "%%time\n",
    "tree = DecisionTree.train_reg(df_rt, max_depth=2)\n",
    "# df['y_hat'] = tree.predict(df_rt)\n",
    "# df['y_hat'].mean()"
   ]
  },
  {
   "cell_type": "code",
   "execution_count": 15,
   "id": "7d199300",
   "metadata": {},
   "outputs": [
    {
     "name": "stdout",
     "output_type": "stream",
     "text": [
      "CPU times: user 11min 27s, sys: 10.4 s, total: 11min 38s\n",
      "Wall time: 49.1 s\n"
     ]
    }
   ],
   "source": [
    "%%time\n",
    "tree = RandomForest.train_reg(df_rt, max_depth=2, n_estimators=100)\n",
    "# df['y_hat'] = tree.predict(df_rt)\n",
    "# df['y_hat'].mean()"
   ]
  },
  {
   "cell_type": "code",
   "execution_count": 16,
   "id": "cdb92977",
   "metadata": {},
   "outputs": [
    {
     "data": {
      "text/plain": [
       "8.297213622291022"
      ]
     },
     "execution_count": 16,
     "metadata": {},
     "output_type": "execute_result"
    }
   ],
   "source": [
    "2680/323"
   ]
  },
  {
   "cell_type": "code",
   "execution_count": 17,
   "id": "5d77a5a4",
   "metadata": {},
   "outputs": [
    {
     "ename": "TypeError",
     "evalue": "<builtins.RandomForest object at 0x7f055ec55cb0> is not an estimator instance.",
     "output_type": "error",
     "traceback": [
      "\u001b[0;31m---------------------------------------------------------------------------\u001b[0m",
      "\u001b[0;31mTypeError\u001b[0m                                 Traceback (most recent call last)",
      "Cell \u001b[0;32mIn[17], line 3\u001b[0m\n\u001b[1;32m      1\u001b[0m \u001b[38;5;28;01mfrom\u001b[39;00m \u001b[38;5;21;01msklearn\u001b[39;00m\u001b[38;5;21;01m.\u001b[39;00m\u001b[38;5;21;01mtree\u001b[39;00m \u001b[38;5;28;01mimport\u001b[39;00m plot_tree\n\u001b[0;32m----> 3\u001b[0m \u001b[43mplot_tree\u001b[49m\u001b[43m(\u001b[49m\u001b[43mtree\u001b[49m\u001b[43m,\u001b[49m\u001b[43m \u001b[49m\u001b[43mfilled\u001b[49m\u001b[38;5;241;43m=\u001b[39;49m\u001b[38;5;28;43;01mTrue\u001b[39;49;00m\u001b[43m,\u001b[49m\u001b[43m \u001b[49m\u001b[43mfontsize\u001b[49m\u001b[38;5;241;43m=\u001b[39;49m\u001b[38;5;241;43m12\u001b[39;49m\u001b[43m,\u001b[49m\u001b[43m \u001b[49m\u001b[43mfeature_names\u001b[49m\u001b[38;5;241;43m=\u001b[39;49m\u001b[43mX\u001b[49m\u001b[43m,\u001b[49m\u001b[43m \u001b[49m\u001b[43mimpurity\u001b[49m\u001b[38;5;241;43m=\u001b[39;49m\u001b[38;5;28;43;01mFalse\u001b[39;49;00m\u001b[43m,\u001b[49m\u001b[43m \u001b[49m\u001b[43mrounded\u001b[49m\u001b[38;5;241;43m=\u001b[39;49m\u001b[38;5;28;43;01mTrue\u001b[39;49;00m\u001b[43m)\u001b[49m;\n",
      "File \u001b[0;32m~/tests/rust-trees/.env/lib/python3.10/site-packages/sklearn/tree/_export.py:179\u001b[0m, in \u001b[0;36mplot_tree\u001b[0;34m(decision_tree, max_depth, feature_names, class_names, label, filled, impurity, node_ids, proportion, rounded, precision, ax, fontsize)\u001b[0m\n\u001b[1;32m     78\u001b[0m \u001b[38;5;28;01mdef\u001b[39;00m \u001b[38;5;21mplot_tree\u001b[39m(\n\u001b[1;32m     79\u001b[0m     decision_tree,\n\u001b[1;32m     80\u001b[0m     \u001b[38;5;241m*\u001b[39m,\n\u001b[0;32m   (...)\u001b[0m\n\u001b[1;32m     92\u001b[0m     fontsize\u001b[38;5;241m=\u001b[39m\u001b[38;5;28;01mNone\u001b[39;00m,\n\u001b[1;32m     93\u001b[0m ):\n\u001b[1;32m     94\u001b[0m \u001b[38;5;250m    \u001b[39m\u001b[38;5;124;03m\"\"\"Plot a decision tree.\u001b[39;00m\n\u001b[1;32m     95\u001b[0m \n\u001b[1;32m     96\u001b[0m \u001b[38;5;124;03m    The sample counts that are shown are weighted with any sample_weights that\u001b[39;00m\n\u001b[0;32m   (...)\u001b[0m\n\u001b[1;32m    176\u001b[0m \u001b[38;5;124;03m    [...]\u001b[39;00m\n\u001b[1;32m    177\u001b[0m \u001b[38;5;124;03m    \"\"\"\u001b[39;00m\n\u001b[0;32m--> 179\u001b[0m     \u001b[43mcheck_is_fitted\u001b[49m\u001b[43m(\u001b[49m\u001b[43mdecision_tree\u001b[49m\u001b[43m)\u001b[49m\n\u001b[1;32m    181\u001b[0m     exporter \u001b[38;5;241m=\u001b[39m _MPLTreeExporter(\n\u001b[1;32m    182\u001b[0m         max_depth\u001b[38;5;241m=\u001b[39mmax_depth,\n\u001b[1;32m    183\u001b[0m         feature_names\u001b[38;5;241m=\u001b[39mfeature_names,\n\u001b[0;32m   (...)\u001b[0m\n\u001b[1;32m    192\u001b[0m         fontsize\u001b[38;5;241m=\u001b[39mfontsize,\n\u001b[1;32m    193\u001b[0m     )\n\u001b[1;32m    194\u001b[0m     \u001b[38;5;28;01mreturn\u001b[39;00m exporter\u001b[38;5;241m.\u001b[39mexport(decision_tree, ax\u001b[38;5;241m=\u001b[39max)\n",
      "File \u001b[0;32m~/tests/rust-trees/.env/lib/python3.10/site-packages/sklearn/utils/validation.py:1376\u001b[0m, in \u001b[0;36mcheck_is_fitted\u001b[0;34m(estimator, attributes, msg, all_or_any)\u001b[0m\n\u001b[1;32m   1370\u001b[0m     msg \u001b[38;5;241m=\u001b[39m (\n\u001b[1;32m   1371\u001b[0m         \u001b[38;5;124m\"\u001b[39m\u001b[38;5;124mThis \u001b[39m\u001b[38;5;132;01m%(name)s\u001b[39;00m\u001b[38;5;124m instance is not fitted yet. Call \u001b[39m\u001b[38;5;124m'\u001b[39m\u001b[38;5;124mfit\u001b[39m\u001b[38;5;124m'\u001b[39m\u001b[38;5;124m with \u001b[39m\u001b[38;5;124m\"\u001b[39m\n\u001b[1;32m   1372\u001b[0m         \u001b[38;5;124m\"\u001b[39m\u001b[38;5;124mappropriate arguments before using this estimator.\u001b[39m\u001b[38;5;124m\"\u001b[39m\n\u001b[1;32m   1373\u001b[0m     )\n\u001b[1;32m   1375\u001b[0m \u001b[38;5;28;01mif\u001b[39;00m \u001b[38;5;129;01mnot\u001b[39;00m \u001b[38;5;28mhasattr\u001b[39m(estimator, \u001b[38;5;124m\"\u001b[39m\u001b[38;5;124mfit\u001b[39m\u001b[38;5;124m\"\u001b[39m):\n\u001b[0;32m-> 1376\u001b[0m     \u001b[38;5;28;01mraise\u001b[39;00m \u001b[38;5;167;01mTypeError\u001b[39;00m(\u001b[38;5;124m\"\u001b[39m\u001b[38;5;132;01m%s\u001b[39;00m\u001b[38;5;124m is not an estimator instance.\u001b[39m\u001b[38;5;124m\"\u001b[39m \u001b[38;5;241m%\u001b[39m (estimator))\n\u001b[1;32m   1378\u001b[0m \u001b[38;5;28;01mif\u001b[39;00m attributes \u001b[38;5;129;01mis\u001b[39;00m \u001b[38;5;129;01mnot\u001b[39;00m \u001b[38;5;28;01mNone\u001b[39;00m:\n\u001b[1;32m   1379\u001b[0m     \u001b[38;5;28;01mif\u001b[39;00m \u001b[38;5;129;01mnot\u001b[39;00m \u001b[38;5;28misinstance\u001b[39m(attributes, (\u001b[38;5;28mlist\u001b[39m, \u001b[38;5;28mtuple\u001b[39m)):\n",
      "\u001b[0;31mTypeError\u001b[0m: <builtins.RandomForest object at 0x7f055ec55cb0> is not an estimator instance."
     ]
    }
   ],
   "source": [
    "from sklearn.tree import plot_tree\n",
    "\n",
    "plot_tree(tree, filled=True, fontsize=12, feature_names=X, impurity=False, rounded=True);"
   ]
  },
  {
   "cell_type": "code",
   "execution_count": null,
   "id": "5a80a0b0",
   "metadata": {},
   "outputs": [],
   "source": [
    "%%time\n",
    "tree_model = CausalForestDML(n_estimators=100, subforest_size=100, inference=False, max_depth=2)\n",
    "tree_model = tree_model.fit(Y=df[dgp.Y], X=df[X], T=df[dgp.D])"
   ]
  },
  {
   "cell_type": "code",
   "execution_count": null,
   "id": "459252c0",
   "metadata": {},
   "outputs": [],
   "source": [
    "from econml.cate_interpreter import SingleTreeCateInterpreter\n",
    "%matplotlib inline\n",
    "\n",
    "intrp = SingleTreeCateInterpreter(max_depth=2).interpret(tree_model, df[X])\n",
    "intrp.plot(feature_names=X, fontsize=12)"
   ]
  },
  {
   "cell_type": "code",
   "execution_count": null,
   "id": "04dbb842",
   "metadata": {},
   "outputs": [],
   "source": [
    "def compute_discrete_effects(df, hte_model):\n",
    "    temp_df = df.copy()\n",
    "    temp_df.time = 0\n",
    "    temp_df = dgp.add_treatment_effect(temp_df)\n",
    "    temp_df = temp_df.rename(columns={'effect_on_spend': 'True'})\n",
    "    temp_df['Predicted'] = hte_model.effect(temp_df[X])\n",
    "    df_effects = pd.DataFrame()\n",
    "    for var in X[1:]:\n",
    "        for effect in ['True', 'Predicted']:\n",
    "            v = temp_df[effect][temp_df[var]==1].mean() - temp_df[effect][temp_df[var]==0].mean()\n",
    "            effect_var = {'Variable': [var], 'Effect': [effect], 'Value': [v]}\n",
    "            df_effects = pd.concat([df_effects, pd.DataFrame(effect_var)]).reset_index(drop=True)\n",
    "    return df_effects, temp_df['Predicted'].mean()"
   ]
  },
  {
   "cell_type": "code",
   "execution_count": null,
   "id": "15956c75",
   "metadata": {},
   "outputs": [],
   "source": [
    "df_effects_tree, avg_effect_notime_tree = compute_discrete_effects(df, tree_model)\n"
   ]
  },
  {
   "cell_type": "code",
   "execution_count": null,
   "id": "ae28b92c",
   "metadata": {},
   "outputs": [],
   "source": [
    "fig, ax = plt.subplots()\n",
    "sns.barplot(data=df_effects_tree, x=\"Variable\", y=\"Value\", hue=\"Effect\", ax=ax).set(\n",
    "    xlabel='', ylabel='', title='Heterogeneous Treatment Effects')\n",
    "ax.set_xticklabels(ax.get_xticklabels(), rotation=45, ha=\"right\");\n"
   ]
  },
  {
   "cell_type": "code",
   "execution_count": null,
   "id": "15160a19",
   "metadata": {},
   "outputs": [],
   "source": [
    "def compute_time_effect(df, hte_model, avg_effect_notime):\n",
    "    df_time = df.copy()\n",
    "    df_time[[X[1:]] + ['device', 'browser', 'region']] = 0\n",
    "    df_time = dgp.add_treatment_effect(df_time)\n",
    "    df_time['predicted'] = hte_model.effect(df_time[X]) + avg_effect_notime\n",
    "    return df_time"
   ]
  },
  {
   "cell_type": "code",
   "execution_count": null,
   "id": "25436825",
   "metadata": {},
   "outputs": [],
   "source": [
    "df_time_tree = compute_time_effect(df, tree_model, avg_effect_notime_tree)\n"
   ]
  },
  {
   "cell_type": "code",
   "execution_count": null,
   "id": "911ffb3c",
   "metadata": {},
   "outputs": [],
   "source": [
    "sns.scatterplot(x='time', y='effect_on_spend', data=df_time_tree, label='True')\n",
    "sns.scatterplot(x='time', y='predicted', data=df_time_tree, label='Predicted').set(\n",
    "    ylabel='', title='Heterogeneous Treatment Effects')\n",
    "plt.legend(title='Effect');"
   ]
  },
  {
   "cell_type": "code",
   "execution_count": null,
   "id": "7cd77988",
   "metadata": {},
   "outputs": [],
   "source": []
  },
  {
   "cell_type": "code",
   "execution_count": null,
   "id": "890df354",
   "metadata": {},
   "outputs": [],
   "source": []
  }
 ],
 "metadata": {
  "kernelspec": {
   "display_name": "Python 3 (ipykernel)",
   "language": "python",
   "name": "python3"
  },
  "language_info": {
   "codemirror_mode": {
    "name": "ipython",
    "version": 3
   },
   "file_extension": ".py",
   "mimetype": "text/x-python",
   "name": "python",
   "nbconvert_exporter": "python",
   "pygments_lexer": "ipython3",
   "version": "3.10.6"
  }
 },
 "nbformat": 4,
 "nbformat_minor": 5
}
